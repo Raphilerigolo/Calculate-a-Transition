{
 "cells": [
  {
   "cell_type": "code",
   "execution_count": 2,
   "metadata": {},
   "outputs": [],
   "source": [
    "import numpy as np\n",
    "import matplotlib.pyplot as plt\n",
    "from scipy import integrate\n",
    "from sympy.physics.wigner import wigner_3j"
   ]
  },
  {
   "cell_type": "markdown",
   "metadata": {},
   "source": [
    "# Hand in 3"
   ]
  },
  {
   "cell_type": "markdown",
   "metadata": {},
   "source": [
    "## NNBC"
   ]
  },
  {
   "cell_type": "code",
   "execution_count": 3,
   "metadata": {},
   "outputs": [
    {
     "name": "stdout",
     "output_type": "stream",
     "text": [
      "44.97401352509873\n"
     ]
    }
   ],
   "source": [
    "# Moment of inertia \n",
    "I_1 = 10\n",
    "I_2 = 12\n",
    "Delta_E = 504.4\n",
    "I_Gd = 1.1\n",
    "h = 197.326/(2*np.pi)\n",
    "M_I = (h**2)*(I_2*(I_2 + 1) - I_1*(I_1 + 1))/(2*Delta_E)\n",
    "print(M_I)"
   ]
  },
  {
   "cell_type": "markdown",
   "metadata": {},
   "source": [
    "## Clebsch Gordan "
   ]
  },
  {
   "cell_type": "code",
   "execution_count": 9,
   "metadata": {},
   "outputs": [
    {
     "name": "stdout",
     "output_type": "stream",
     "text": [
      "J = 1, m1 = -1.5, m2 = -0.5, M = -2.0, Wigner 3-j value = 0\n",
      "J = 1, m1 = -1.5, m2 = 0.5, M = -1.0, Wigner 3-j value = -1/2\n",
      "J = 1, m1 = -0.5, m2 = -0.5, M = -1.0, Wigner 3-j value = sqrt(3)/6\n",
      "J = 1, m1 = -0.5, m2 = 0.5, M = 0.0, Wigner 3-j value = sqrt(6)/6\n",
      "J = 1, m1 = 0.5, m2 = -0.5, M = 0.0, Wigner 3-j value = -sqrt(6)/6\n",
      "J = 1, m1 = 0.5, m2 = 0.5, M = 1.0, Wigner 3-j value = -sqrt(3)/6\n",
      "J = 1, m1 = 1.5, m2 = -0.5, M = 1.0, Wigner 3-j value = 1/2\n",
      "J = 1, m1 = 1.5, m2 = 0.5, M = 2.0, Wigner 3-j value = 0\n",
      "J = 2, m1 = -1.5, m2 = -0.5, M = -2.0, Wigner 3-j value = -sqrt(5)/5\n",
      "J = 2, m1 = -1.5, m2 = 0.5, M = -1.0, Wigner 3-j value = sqrt(5)/10\n",
      "J = 2, m1 = -0.5, m2 = -0.5, M = -1.0, Wigner 3-j value = sqrt(15)/10\n",
      "J = 2, m1 = -0.5, m2 = 0.5, M = 0.0, Wigner 3-j value = -sqrt(10)/10\n",
      "J = 2, m1 = 0.5, m2 = -0.5, M = 0.0, Wigner 3-j value = -sqrt(10)/10\n",
      "J = 2, m1 = 0.5, m2 = 0.5, M = 1.0, Wigner 3-j value = sqrt(15)/10\n",
      "J = 2, m1 = 1.5, m2 = -0.5, M = 1.0, Wigner 3-j value = sqrt(5)/10\n",
      "J = 2, m1 = 1.5, m2 = 0.5, M = 2.0, Wigner 3-j value = -sqrt(5)/5\n"
     ]
    }
   ],
   "source": [
    "# Coupling between p3/2 and p1/2\n",
    "j1 = 3/2  # p3/2 state\n",
    "j2 = 1/2  # p1/2 state\n",
    "\n",
    "# Total J values possible for this coupling\n",
    "J_values = [1, 2]  # Result from |j1 - j2| to j1 + j2\n",
    "\n",
    "# Loop through possible m1, m2, and M (projection of J)\n",
    "for J in J_values:\n",
    "    for m1 in [-j1, -j1 + 1, j1 - 1, j1]:\n",
    "        for m2 in [-j2, j2]:\n",
    "            M = m1 + m2  # Projection of total angular momentum\n",
    "            # Calculate Wigner 3-j symbol for the coupling\n",
    "            wigner_value = wigner_3j(j1, j2, J, m1, m2, -M)\n",
    "            print(f\"J = {J}, m1 = {m1}, m2 = {m2}, M = {M}, Wigner 3-j value = {wigner_value}\")"
   ]
  },
  {
   "cell_type": "code",
   "execution_count": 16,
   "metadata": {},
   "outputs": [
    {
     "name": "stdout",
     "output_type": "stream",
     "text": [
      "clebsh 1 = -sqrt(10)/10\n",
      "clebsh 2 = -sqrt(10)/10\n"
     ]
    }
   ],
   "source": [
    "# Coupling qui m'interesse \n",
    "wigner_value = wigner_3j(1/2, 3/2, 2, 1/2, -1/2, 0)\n",
    "print(f\"clebsh 1 = {wigner_value}\")\n",
    "wigner_value = wigner_3j(3/2, 1/2, 2, 1/2, -1/2, 0)\n",
    "print(f\"clebsh 2 = {wigner_value}\")"
   ]
  },
  {
   "cell_type": "markdown",
   "metadata": {},
   "source": [
    "## Angular part quadrupole transitions and B(E2)"
   ]
  },
  {
   "cell_type": "markdown",
   "metadata": {},
   "source": [
    "### Code du Wood Saxon + spin orbit"
   ]
  },
  {
   "cell_type": "code",
   "execution_count": 10,
   "metadata": {},
   "outputs": [],
   "source": [
    "# Declarartion des constantes\n",
    "dat = 10**(-3)\n",
    "n = 1000 #n+1\n",
    "dr = 0.01\n",
    "r0 = dr\n",
    "l = 1\n",
    "omega = 8.6/h\n",
    "E0 = 55\n",
    "m_n = 939.57\n",
    "V0 = 53.2\n",
    "R0 = 3.13\n",
    "a = 0.67\n",
    "s = 1/2\n",
    "Lambda = 0.5\n",
    "V_scen = 1 # 0 if shifted harmonic potential, 1 if Wood Saxon potential\n",
    "\n",
    "#Fonctions \n",
    "def new_r():\n",
    "    tank = np.zeros(n)\n",
    "    for i in range(n):\n",
    "        tank[i] = r0 + dr*i\n",
    "    return tank\n",
    "def Enl():\n",
    "    tank = np.zeros(n)\n",
    "    for i in range(n):\n",
    "        tank[i] = h*omega*(2*i + l + 3/2)-E0\n",
    "    return tank\n",
    "def V_HO(x):\n",
    "    return (1/2)*m_n*(omega**2)*(x**2)-E0\n",
    "def V_Sax(x):\n",
    "    return -V0/(1 + np.exp((x-R0)/a))\n",
    "def new_V(r,l,s):\n",
    "    if (s==1/2):\n",
    "        c = l/2\n",
    "    elif(s == -1/2):\n",
    "        c = -(l+1)/2\n",
    "    tank = np.zeros([n,n])\n",
    "    tank2 = np.zeros(n)\n",
    "    if (V_scen == 0):\n",
    "        for i in range(n):\n",
    "            tank[i,i] = V_HO(r[i])\n",
    "            tank2[i] = tank[i,i]\n",
    "    if (V_scen == 1):\n",
    "        for i in range(n):\n",
    "            tank[i,i] = V_Sax(r[i])\n",
    "            tank2[i] = tank[i,i]\n",
    "    for i in range(1,n-1):\n",
    "        tank[i,i] += (tank2[i+1]-tank2[i-1])*Lambda*c/(r[i]*2*dr)\n",
    "    return tank\n",
    "\n",
    "def new_T():\n",
    "    tank = np.zeros([n,n])\n",
    "    for i in range(n):\n",
    "        tank[i,i] = 2/(dr**2)\n",
    "    for i in range(n-1):\n",
    "        tank[i,i+1] = -1/(dr**2)\n",
    "        tank[i+1,i] = -1/(dr**2)\n",
    "    return tank \n",
    "\n",
    "def new_L_square(r,l):\n",
    "    tank = np.zeros([n,n])\n",
    "    for i in range(n):\n",
    "        tank[i,i] = l*(l+1)/(r[i]**2)\n",
    "    return tank"
   ]
  },
  {
   "cell_type": "markdown",
   "metadata": {},
   "source": [
    "### Creation des waves functions"
   ]
  },
  {
   "cell_type": "code",
   "execution_count": 11,
   "metadata": {},
   "outputs": [
    {
     "name": "stderr",
     "output_type": "stream",
     "text": [
      "C:\\Users\\rapha\\AppData\\Local\\Temp\\ipykernel_12880\\2507595334.py:17: DeprecationWarning: 'scipy.integrate.simps' is deprecated in favour of 'scipy.integrate.simpson' and will be removed in SciPy 1.14.0\n",
      "  wave_3_2 = wave_3_2/np.sqrt(integrate.simps(wave_3_2**2,r))\n",
      "C:\\Users\\rapha\\AppData\\Local\\Temp\\ipykernel_12880\\2507595334.py:33: DeprecationWarning: 'scipy.integrate.simps' is deprecated in favour of 'scipy.integrate.simpson' and will be removed in SciPy 1.14.0\n",
      "  wave_1_2 = wave_1_2/np.sqrt(integrate.simps(wave_1_2**2,r))\n"
     ]
    }
   ],
   "source": [
    "# Wavefunctions \n",
    "#3/2 wave\n",
    "r = new_r()\n",
    "T = new_T()\n",
    "V = new_V(r,l,s)\n",
    "L_square = new_L_square(r,l)\n",
    "H = T + L_square + 2*m_n*V/(h**2)\n",
    "eigen_value, eigen_state = np.linalg.eig(H)\n",
    "energies = (h**2)*eigen_value/(2*m_n)\n",
    "positive_indices = np.where(energies < 0)[0]\n",
    "energies = energies[positive_indices]\n",
    "eigen_state = eigen_state[:,positive_indices]\n",
    "sorted_indices = np.argsort(energies)\n",
    "energies = energies[sorted_indices]\n",
    "eigen_state = eigen_state[:,sorted_indices]\n",
    "wave_3_2 = eigen_state [:,0]\n",
    "wave_3_2 = wave_3_2/np.sqrt(integrate.simps(wave_3_2**2,r))\n",
    "\n",
    "#1/2 wave\n",
    "s = -1/2\n",
    "V = new_V(r,l,s)\n",
    "L_square = new_L_square(r,l)\n",
    "H = T + L_square + 2*m_n*V/(h**2)\n",
    "eigen_value, eigen_state = np.linalg.eig(H)\n",
    "energies = (h**2)*eigen_value/(2*m_n)\n",
    "positive_indices = np.where(energies < 0)[0]\n",
    "energies = energies[positive_indices]\n",
    "eigen_state = eigen_state[:,positive_indices]\n",
    "sorted_indices = np.argsort(energies)\n",
    "energies = energies[sorted_indices]\n",
    "eigen_state = eigen_state[:,sorted_indices]\n",
    "wave_1_2 = eigen_state [:,0]\n",
    "wave_1_2 = wave_1_2/np.sqrt(integrate.simps(wave_1_2**2,r))"
   ]
  },
  {
   "cell_type": "markdown",
   "metadata": {},
   "source": [
    "### Calculation quadrupole transition and BE2"
   ]
  },
  {
   "cell_type": "code",
   "execution_count": 15,
   "metadata": {},
   "outputs": [
    {
     "name": "stdout",
     "output_type": "stream",
     "text": [
      "f_Q_i = 4.423356404951047, B_EL_Ji_Jf = 4.891520471305363\n"
     ]
    },
    {
     "name": "stderr",
     "output_type": "stream",
     "text": [
      "C:\\Users\\rapha\\AppData\\Local\\Temp\\ipykernel_12880\\3538634003.py:19: DeprecationWarning: 'scipy.integrate.simps' is deprecated in favour of 'scipy.integrate.simpson' and will be removed in SciPy 1.14.0\n",
      "  R_lambda = integrate.simps(product,r)\n"
     ]
    }
   ],
   "source": [
    "# Declaration des constantes \n",
    "j_i = 3/2\n",
    "j_f = 1/2\n",
    "l_i = 1\n",
    "l_f = 1\n",
    "Lambda_quadra= 2\n",
    "clebsh1 = -np.sqrt(10)/10 # Faire fonctionner code en haut\n",
    "clebsh2 = -np.sqrt(10)/10\n",
    "\n",
    "# Declaration des fonctions \n",
    "def quadruple_transition(j_i_,j_f_,l_f_,l_i_,Lambda_quadra_,clebsh_,R_lambda_):\n",
    "        return (np.e/np.sqrt(4*np.pi))*(-1)**(j_i_ + Lambda_quadra_ -1/2)*((1 + (-1)**(l_f_ + l_i_ + Lambda_quadra_))/2)*np.sqrt(2*Lambda_quadra_ + 1)*np.sqrt(2*j_f_ + 1)*np.sqrt(2*j_i_ + 1)*clebsh_*R_lambda_\n",
    "\n",
    "def B_E2 (j_i_,j_f_,l_f_,l_i_,Lambda_quadra_,clebsh_,R_lambda_):\n",
    "    return (quadruple_transition(j_f_,j_i_,l_i_,l_f_,Lambda_quadra_,clebsh_,R_lambda_)**2)/(2*j_i_ + 1)\n",
    "\n",
    "# Calculation of R_lambda\n",
    "product = wave_1_2*wave_1_2*r**(2 + Lambda_quadra)\n",
    "R_lambda = integrate.simps(product,r)\n",
    "\n",
    "# Calculation of quadrople transition and BE2 energy\n",
    "f_Q_i = quadruple_transition(j_i,j_f,l_f,l_i,Lambda_quadra,clebsh1,R_lambda)\n",
    "B_EL_Ji_Jf = B_E2(j_i,j_f,l_f,l_i,Lambda_quadra,clebsh2,R_lambda)\n",
    "\n",
    "print(f\"f_Q_i = {f_Q_i}, B_EL_Ji_Jf = {B_EL_Ji_Jf}\")"
   ]
  }
 ],
 "metadata": {
  "kernelspec": {
   "display_name": "Python 3",
   "language": "python",
   "name": "python3"
  },
  "language_info": {
   "codemirror_mode": {
    "name": "ipython",
    "version": 3
   },
   "file_extension": ".py",
   "mimetype": "text/x-python",
   "name": "python",
   "nbconvert_exporter": "python",
   "pygments_lexer": "ipython3",
   "version": "3.11.9"
  }
 },
 "nbformat": 4,
 "nbformat_minor": 2
}
